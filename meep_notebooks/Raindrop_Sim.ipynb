{
 "cells": [
  {
   "cell_type": "code",
   "execution_count": 1,
   "id": "87199797",
   "metadata": {},
   "outputs": [
    {
     "name": "stdout",
     "output_type": "stream",
     "text": [
      "-----------\n",
      "Initializing structure...\n",
      "time for choose_chunkdivision = 0.000133038 s\n",
      "Working in 3D dimensions.\n",
      "Computational cell is 2 x 2 x 2 with resolution 100\n",
      "     sphere, center = (0.143973,0.921332,0.0836027)\n",
      "          radius 0.1\n",
      "          dielectric constant epsilon diagonal = (81,81,81)\n",
      "     sphere, center = (0.256526,0.646817,0.14726)\n",
      "          radius 0.1\n",
      "          dielectric constant epsilon diagonal = (81,81,81)\n",
      "     sphere, center = (0.679833,0.59588,0.0141489)\n",
      "          radius 0.1\n",
      "          dielectric constant epsilon diagonal = (81,81,81)\n",
      "     sphere, center = (0.858449,0.0335215,0.781865)\n",
      "          radius 0.1\n",
      "          dielectric constant epsilon diagonal = (81,81,81)\n",
      "     sphere, center = (0.22908,0.795354,0.931297)\n",
      "          radius 0.1\n",
      "          dielectric constant epsilon diagonal = (81,81,81)\n",
      "     sphere, center = (0.265353,0.959074,0.494652)\n",
      "          radius 0.1\n",
      "          dielectric constant epsilon diagonal = (81,81,81)\n",
      "     sphere, center = (0.881912,0.216482,0.492834)\n",
      "          radius 0.1\n",
      "          dielectric constant epsilon diagonal = (81,81,81)\n",
      "     sphere, center = (0.827217,0.783907,0.452971)\n",
      "          radius 0.1\n",
      "          dielectric constant epsilon diagonal = (81,81,81)\n",
      "     sphere, center = (0.767904,0.0873476,0.876375)\n",
      "          radius 0.1\n",
      "          dielectric constant epsilon diagonal = (81,81,81)\n",
      "     sphere, center = (0.74452,0.733985,0.223713)\n",
      "          radius 0.1\n",
      "          dielectric constant epsilon diagonal = (81,81,81)\n",
      "     ...(+ 90 objects not shown)...\n",
      "subpixel-averaging is 39.603% done, 6.10042 s remaining\n",
      "subpixel-averaging is 55.6116% done, 3.23914 s remaining\n",
      "subpixel-averaging is 60.5743% done, 2.6081 s remaining\n",
      "subpixel-averaging is 66.005% done, 2.0714 s remaining\n",
      "subpixel-averaging is 70.943% done, 1.63845 s remaining\n",
      "subpixel-averaging is 74.9575% done, 1.34376 s remaining\n",
      "subpixel-averaging is 77.9622% done, 1.13732 s remaining\n",
      "subpixel-averaging is 82.42% done, 0.854245 s remaining\n",
      "subpixel-averaging is 86.0404% done, 0.651781 s remaining\n",
      "subpixel-averaging is 90.8061% done, 0.407393 s remaining\n",
      "subpixel-averaging is 94.3034% done, 0.241931 s remaining\n",
      "subpixel-averaging is 43.445% done, 5.20738 s remaining\n",
      "subpixel-averaging is 56.5598% done, 3.07462 s remaining\n",
      "subpixel-averaging is 62.1629% done, 2.43738 s remaining\n",
      "subpixel-averaging is 67.2241% done, 1.95051 s remaining\n",
      "subpixel-averaging is 72.4823% done, 1.51957 s remaining\n",
      "subpixel-averaging is 76.5337% done, 1.23676 s remaining\n",
      "subpixel-averaging is 80.4866% done, 0.970503 s remaining\n",
      "subpixel-averaging is 85.9912% done, 0.656034 s remaining\n",
      "subpixel-averaging is 91.0154% done, 0.399252 s remaining\n",
      "subpixel-averaging is 95.855% done, 0.173293 s remaining\n",
      "subpixel-averaging is 42.6692% done, 5.37489 s remaining\n",
      "subpixel-averaging is 56.1658% done, 3.15897 s remaining\n",
      "subpixel-averaging is 61.6334% done, 2.50051 s remaining\n",
      "subpixel-averaging is 66.9162% done, 1.97847 s remaining\n",
      "subpixel-averaging is 72.1375% done, 1.54517 s remaining\n",
      "subpixel-averaging is 76.583% done, 1.22762 s remaining\n",
      "subpixel-averaging is 81.3979% done, 0.917011 s remaining\n",
      "subpixel-averaging is 86.5699% done, 0.622056 s remaining\n",
      "subpixel-averaging is 91.8528% done, 0.355877 s remaining\n",
      "subpixel-averaging is 97.2834% done, 0.111856 s remaining\n",
      "time for set_epsilon = 131.91 s\n",
      "subpixel-averaging is 45.1814% done, 4.85379 s remaining\n",
      "subpixel-averaging is 56.5229% done, 3.07871 s remaining\n",
      "subpixel-averaging is 62.1752% done, 2.4377 s remaining\n",
      "subpixel-averaging is 67.6428% done, 1.92034 s remaining\n",
      "subpixel-averaging is 73.4428% done, 1.45381 s remaining\n",
      "subpixel-averaging is 77.5066% done, 1.17073 s remaining\n",
      "subpixel-averaging is 82.5431% done, 0.84617 s remaining\n",
      "subpixel-averaging is 88.06% done, 0.543507 s remaining\n",
      "subpixel-averaging is 92.8749% done, 0.307704 s remaining\n",
      "subpixel-averaging is 98.8227% done, 0.0476788 s remaining\n",
      "subpixel-averaging is 44.8489% done, 4.91906 s remaining\n",
      "subpixel-averaging is 56.1781% done, 3.16023 s remaining\n",
      "subpixel-averaging is 62.0644% done, 2.45497 s remaining\n",
      "subpixel-averaging is 67.1256% done, 1.95917 s remaining\n",
      "subpixel-averaging is 72.9503% done, 1.49196 s remaining\n",
      "subpixel-averaging is 77.0386% done, 1.19261 s remaining\n",
      "subpixel-averaging is 81.9521% done, 0.884392 s remaining\n",
      "subpixel-averaging is 87.4566% done, 0.57558 s remaining\n",
      "subpixel-averaging is 92.3454% done, 0.332873 s remaining\n",
      "subpixel-averaging is 97.776% done, 0.0913532 s remaining\n",
      "subpixel-averaging is 43.679% done, 5.15854 s remaining\n",
      "subpixel-averaging is 56.215% done, 3.1319 s remaining\n",
      "subpixel-averaging is 62.1629% done, 2.46388 s remaining\n",
      "subpixel-averaging is 67.5812% done, 1.92113 s remaining\n",
      "subpixel-averaging is 73.4182% done, 1.45645 s remaining\n",
      "subpixel-averaging is 77.4696% done, 1.16445 s remaining\n",
      "subpixel-averaging is 82.4569% done, 0.854485 s remaining\n",
      "subpixel-averaging is 87.8383% done, 0.55494 s remaining\n",
      "subpixel-averaging is 92.4439% done, 0.327327 s remaining\n",
      "subpixel-averaging is 96.9879% done, 0.124515 s remaining\n",
      "time for set_mu = 123.42 s\n",
      "time for set_conductivity = 0.66396 s\n",
      "time for set_conductivity = 0.799029 s\n",
      "time for set_conductivity = 0.755481 s\n",
      "-----------\n"
     ]
    }
   ],
   "source": [
    "import meep as mp\n",
    "import numpy as np\n",
    "import math\n",
    "\n",
    "num_drops = 100\n",
    "cell_size = mp.Vector3(2,2,2)\n",
    "#https://www.ijert.org/research/underwater-antenna-design-and-analysis-at-ism-band-frequency-IJERTV6IS120114.pdf\n",
    "isotropic_water = mp.Medium(mu=0.999991,epsilon=81,D_conductivity=4)\n",
    "shifts = np.random.rand(3,num_drops)\n",
    "drop_sphere = mp.Sphere(radius=0.02, material=isotropic_water)\n",
    "geometry = list()\n",
    "#https://slidetodoc.com/radar-meteorology-theoretical-work-mie-scattering-theory-in/\n",
    "for i in range(num_drops):\n",
    "    geometry.append(drop_sphere+mp.Vector3(shifts[0,i],shifts[1,i],shifts[2,i]))\n",
    "\n",
    "sim = mp.Simulation(resolution=100,\n",
    "                    cell_size=cell_size,\n",
    "                    geometry=geometry)\n",
    "\n",
    "sim.init_sim()\n",
    "\n",
    "eps_data = sim.get_epsilon()"
   ]
  },
  {
   "cell_type": "code",
   "execution_count": 6,
   "id": "2bf6e43d",
   "metadata": {},
   "outputs": [
    {
     "name": "stderr",
     "output_type": "stream",
     "text": [
      "/tmp/ipykernel_5934/3390517854.py:9: UserWarning: No contour levels were found within the data range.\n",
      "  s = ax.contour3D(X,Y,Z[i,:,:],cmap='YlGnBu')\n"
     ]
    },
    {
     "data": {
      "image/png": "[encoded data removed]",
      "text/plain": [
       "<Figure size 432x288 with 1 Axes>"
      ]
     },
     "metadata": {
      "needs_background": "light"
     },
     "output_type": "display_data"
    }
   ],
   "source": [
    "import matplotlib.pyplot as plt\n",
    "fig = plt.figure()\n",
    "x = np.linspace(-1,1,200)\n",
    "y = np.linspace(-1,1,200)\n",
    "X, Y = np.meshgrid(x, y)\n",
    "Z = eps_data\n",
    "ax = plt.axes(projection='3d')\n",
    "for i in range(200):\n",
    "    s = ax.contour3D(X,Y,Z[i,:,:],cmap='YlGnBu')"
   ]
  },
  {
   "cell_type": "code",
   "execution_count": 3,
   "id": "c775df16",
   "metadata": {},
   "outputs": [
    {
     "data": {
      "text/plain": [
       "(200, 200, 200)"
      ]
     },
     "execution_count": 3,
     "metadata": {},
     "output_type": "execute_result"
    }
   ],
   "source": [
    "Z.shape"
   ]
  },
  {
   "cell_type": "code",
   "execution_count": null,
   "id": "1f42e8c6",
   "metadata": {},
   "outputs": [],
   "source": []
  }
 ],
 "metadata": {
  "kernelspec": {
   "display_name": "Python 3 (ipykernel)",
   "language": "python",
   "name": "python3"
  },
  "language_info": {
   "codemirror_mode": {
    "name": "ipython",
    "version": 3
   },
   "file_extension": ".py",
   "mimetype": "text/x-python",
   "name": "python",
   "nbconvert_exporter": "python",
   "pygments_lexer": "ipython3",
   "version": "3.9.7"
  }
 },
 "nbformat": 4,
 "nbformat_minor": 5
}
